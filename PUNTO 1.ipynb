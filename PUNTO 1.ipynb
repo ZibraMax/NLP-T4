{
 "cells": [
  {
   "cell_type": "code",
   "execution_count": 1,
   "metadata": {},
   "outputs": [],
   "source": [
    "import multiprocessing\n",
    "import re\n",
    "import matplotlib.pyplot as plt\n",
    "import numpy as np\n",
    "import os\n",
    "import gensim\n",
    "import logging\n",
    "from sklearn.decomposition import PCA\n",
    "from sklearn.manifold import TSNE\n",
    "import warnings\n",
    "from sklearn.preprocessing import StandardScaler\n",
    "warnings.simplefilter(action='ignore', category=FutureWarning)\n",
    "NCORES = multiprocessing.cpu_count()\n",
    "logging.basicConfig(\n",
    "    format='%(asctime)s - %(levelname)s - %(message)s', level=logging.WARNING)\n"
   ]
  },
  {
   "cell_type": "code",
   "execution_count": 2,
   "metadata": {},
   "outputs": [],
   "source": [
    "\n",
    "\n",
    "def processing_text(texto):\n",
    "    texto = texto.lower()\n",
    "    processed_feature = re.sub(r'\\W', ' ', str(texto))\n",
    "    processed_feature = re.sub(r'\\s+[a-zA-Z]\\s+', ' ', processed_feature)\n",
    "    processed_feature = re.sub(r'\\^[a-zA-Z]\\s+', ' ', processed_feature)\n",
    "    processed_feature = re.sub(r'[0-9]+', ' ', processed_feature)\n",
    "    processed_feature = re.sub(' +', ' ', processed_feature)\n",
    "    return processed_feature.strip().split(\" \")\n",
    "\n",
    "\n",
    "def load_folder(folder_path):\n",
    "    logging.warning(f\"Loading files from {folder_path}\")\n",
    "    files = [f\"./{folder_path}/{i}\" for i in os.listdir(folder_path)]\n",
    "    documents = []\n",
    "    for file in files:\n",
    "        documents += open(file, encoding=\"utf-8\").readlines()\n",
    "    for i in range(len(documents)):\n",
    "        documents[i] = processing_text(documents[i])\n",
    "    logging.warning(f\"Done!\")\n",
    "    return documents\n",
    "\n",
    "\n",
    "def create_model(documents, all_docs=None, dim=100, filename=None):\n",
    "    all_docs = all_docs or documents\n",
    "    logging.warning(f\"Creating model\")\n",
    "    model = gensim.models.Word2Vec(\n",
    "        vector_size=dim,\n",
    "        window=3,\n",
    "        min_count=2,\n",
    "        sg=1,\n",
    "        negative=10,\n",
    "        workers=NCORES-2,\n",
    "        seed=42,\n",
    "        compute_loss=True)\n",
    "    model.build_vocab(all_docs)\n",
    "    model.train(documents, total_examples=len(documents), epochs=100)\n",
    "    logging.warning(f\"Model trained!\")\n",
    "    if filename:\n",
    "        model.save(filename)\n",
    "        logging.warning(f\"Model saved to {filename}\")\n",
    "    return model\n",
    "\n",
    "\n",
    "def create_model_from_folder(folder_path, all_docs=None, dim=100):\n",
    "    try:\n",
    "        os.mkdir(\"models\")\n",
    "    except Exception as e:\n",
    "        pass\n",
    "    docs = load_folder(folder_path)\n",
    "    f = f\"./models/{folder_path}_{dim}.model\"\n",
    "    return create_model(docs, all_docs=all_docs, filename=f, dim=dim)\n",
    "\n",
    "\n",
    "def weird_plot(model, words, kind=\"TSNE\", ndim=2):\n",
    "    pca = TSNE(n_components=ndim, init=\"pca\", random_state=42, perplexity=9)\n",
    "    if kind == \"PCA\":\n",
    "        pca = PCA(n_components=ndim)\n",
    "    X = []\n",
    "    colors = []\n",
    "    labels = []\n",
    "    for word in words:\n",
    "        vector = model.wv[word]\n",
    "        close_words = model.wv.most_similar([word], 50)\n",
    "        colors.append(\"red\")\n",
    "        X.append(vector)\n",
    "        labels.append(word)\n",
    "        for cw in close_words:\n",
    "            vector = model.wv[cw[0]]\n",
    "            colors.append(\"blue\")\n",
    "            X.append(vector)\n",
    "            labels.append(cw[0])\n",
    "    X = np.array(X)\n",
    "    if kind != \"PCA\":\n",
    "        min_div = np.inf\n",
    "        for i in range(1, len(X)):\n",
    "            ttssne = TSNE(n_components=ndim, init=\"pca\",\n",
    "                          random_state=42, perplexity=i)\n",
    "            ttssne.fit_transform(X)\n",
    "            div = ttssne.kl_divergence_\n",
    "            if div < min_div:\n",
    "                pca = ttssne\n",
    "                min_div = div\n",
    "\n",
    "    X_pca = pca.fit_transform(X)\n",
    "    if ndim == 2:\n",
    "        fig = plt.figure(figsize=[10, 10])\n",
    "        plt.scatter(*X_pca.T, color=colors)\n",
    "        for i, label in enumerate(labels):\n",
    "            plt.annotate(label, xy=X_pca[i])\n",
    "        plt.show()\n",
    "    elif ndim == 3:\n",
    "        fig = plt.figure(figsize=[10, 10])\n",
    "        ax = fig.add_subplot(projection=\"3d\")\n",
    "        ax.scatter(*X_pca.T, color=colors)\n",
    "        for i, label in enumerate(labels):\n",
    "            ax.text(*X_pca[i], label, None)\n",
    "        plt.show()\n",
    "    return X_pca\n"
   ]
  },
  {
   "cell_type": "code",
   "execution_count": 3,
   "metadata": {},
   "outputs": [
    {
     "name": "stderr",
     "output_type": "stream",
     "text": [
      "2023-10-24 09:35:54,293 - WARNING - Loading files from DON_JULIO\n",
      "2023-10-24 09:35:54,548 - WARNING - Done!\n",
      "2023-10-24 09:35:54,549 - WARNING - Loading files from CARLITOS\n",
      "2023-10-24 09:35:55,073 - WARNING - Done!\n",
      "2023-10-24 09:35:55,076 - WARNING - Loading files from MR_POZO\n",
      "2023-10-24 09:35:55,208 - WARNING - Done!\n"
     ]
    }
   ],
   "source": [
    "FOLDERS = [\"DON_JULIO\", \"CARLITOS\", \"MR_POZO\"]\n",
    "\n",
    "all_docs = []\n",
    "for folder in FOLDERS:\n",
    "    all_docs += load_folder(folder)\n"
   ]
  },
  {
   "cell_type": "code",
   "execution_count": 4,
   "metadata": {},
   "outputs": [
    {
     "name": "stderr",
     "output_type": "stream",
     "text": [
      "2023-10-24 09:35:55,214 - WARNING - Loading files from DON_JULIO\n",
      "2023-10-24 09:35:55,643 - WARNING - Done!\n",
      "2023-10-24 09:35:55,644 - WARNING - Creating model\n"
     ]
    }
   ],
   "source": [
    "models = []\n",
    "for folder in FOLDERS:\n",
    "    for dim in [200, 250]:\n",
    "        model = create_model_from_folder(folder, all_docs=all_docs, dim=dim)\n",
    "        models.append(model)\n",
    "        top_n_words = model.wv.index_to_key[:5]\n",
    "        weird_plot(model, top_n_words)\n"
   ]
  }
 ],
 "metadata": {
  "kernelspec": {
   "display_name": "Python 3",
   "language": "python",
   "name": "python3"
  },
  "language_info": {
   "codemirror_mode": {
    "name": "ipython",
    "version": 3
   },
   "file_extension": ".py",
   "mimetype": "text/x-python",
   "name": "python",
   "nbconvert_exporter": "python",
   "pygments_lexer": "ipython3",
   "version": "3.10.12"
  }
 },
 "nbformat": 4,
 "nbformat_minor": 2
}
